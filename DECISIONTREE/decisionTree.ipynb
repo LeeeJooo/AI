{
 "cells": [
  {
   "cell_type": "code",
   "execution_count": 90,
   "metadata": {},
   "outputs": [],
   "source": [
    "import pandas as pd\n",
    "import numpy as np\n",
    "import matplotlib.pyplot as plt\n",
    "import seaborn as sns"
   ]
  },
  {
   "cell_type": "code",
   "execution_count": 91,
   "metadata": {},
   "outputs": [],
   "source": [
    "sns.set_style(\"whitegrid\")\n",
    "plt.style.use(\"fivethirtyeight\")"
   ]
  },
  {
   "cell_type": "code",
   "execution_count": 92,
   "metadata": {},
   "outputs": [
    {
     "name": "stdout",
     "output_type": "stream",
     "text": [
      "# of rows & columns in the data set: (1470, 35)\n"
     ]
    }
   ],
   "source": [
    "ibm_hr_df = pd.read_csv('WA_Fn-UseC_-HR-Employee-Attrition.csv')\n",
    "print(f'# of rows & columns in the data set: {ibm_hr_df.shape}')"
   ]
  },
  {
   "cell_type": "code",
   "execution_count": 93,
   "metadata": {},
   "outputs": [
    {
     "data": {
      "text/html": [
       "<div>\n",
       "<style scoped>\n",
       "    .dataframe tbody tr th:only-of-type {\n",
       "        vertical-align: middle;\n",
       "    }\n",
       "\n",
       "    .dataframe tbody tr th {\n",
       "        vertical-align: top;\n",
       "    }\n",
       "\n",
       "    .dataframe thead th {\n",
       "        text-align: right;\n",
       "    }\n",
       "</style>\n",
       "<table border=\"1\" class=\"dataframe\">\n",
       "  <thead>\n",
       "    <tr style=\"text-align: right;\">\n",
       "      <th></th>\n",
       "      <th>Age</th>\n",
       "      <th>Attrition</th>\n",
       "      <th>BusinessTravel</th>\n",
       "      <th>DailyRate</th>\n",
       "      <th>Department</th>\n",
       "      <th>DistanceFromHome</th>\n",
       "      <th>Education</th>\n",
       "      <th>EducationField</th>\n",
       "      <th>EmployeeCount</th>\n",
       "      <th>EmployeeNumber</th>\n",
       "      <th>...</th>\n",
       "      <th>RelationshipSatisfaction</th>\n",
       "      <th>StandardHours</th>\n",
       "      <th>StockOptionLevel</th>\n",
       "      <th>TotalWorkingYears</th>\n",
       "      <th>TrainingTimesLastYear</th>\n",
       "      <th>WorkLifeBalance</th>\n",
       "      <th>YearsAtCompany</th>\n",
       "      <th>YearsInCurrentRole</th>\n",
       "      <th>YearsSinceLastPromotion</th>\n",
       "      <th>YearsWithCurrManager</th>\n",
       "    </tr>\n",
       "  </thead>\n",
       "  <tbody>\n",
       "    <tr>\n",
       "      <th>0</th>\n",
       "      <td>41</td>\n",
       "      <td>Yes</td>\n",
       "      <td>Travel_Rarely</td>\n",
       "      <td>1102</td>\n",
       "      <td>Sales</td>\n",
       "      <td>1</td>\n",
       "      <td>2</td>\n",
       "      <td>Life Sciences</td>\n",
       "      <td>1</td>\n",
       "      <td>1</td>\n",
       "      <td>...</td>\n",
       "      <td>1</td>\n",
       "      <td>80</td>\n",
       "      <td>0</td>\n",
       "      <td>8</td>\n",
       "      <td>0</td>\n",
       "      <td>1</td>\n",
       "      <td>6</td>\n",
       "      <td>4</td>\n",
       "      <td>0</td>\n",
       "      <td>5</td>\n",
       "    </tr>\n",
       "    <tr>\n",
       "      <th>1</th>\n",
       "      <td>49</td>\n",
       "      <td>No</td>\n",
       "      <td>Travel_Frequently</td>\n",
       "      <td>279</td>\n",
       "      <td>Research &amp; Development</td>\n",
       "      <td>8</td>\n",
       "      <td>1</td>\n",
       "      <td>Life Sciences</td>\n",
       "      <td>1</td>\n",
       "      <td>2</td>\n",
       "      <td>...</td>\n",
       "      <td>4</td>\n",
       "      <td>80</td>\n",
       "      <td>1</td>\n",
       "      <td>10</td>\n",
       "      <td>3</td>\n",
       "      <td>3</td>\n",
       "      <td>10</td>\n",
       "      <td>7</td>\n",
       "      <td>1</td>\n",
       "      <td>7</td>\n",
       "    </tr>\n",
       "    <tr>\n",
       "      <th>2</th>\n",
       "      <td>37</td>\n",
       "      <td>Yes</td>\n",
       "      <td>Travel_Rarely</td>\n",
       "      <td>1373</td>\n",
       "      <td>Research &amp; Development</td>\n",
       "      <td>2</td>\n",
       "      <td>2</td>\n",
       "      <td>Other</td>\n",
       "      <td>1</td>\n",
       "      <td>4</td>\n",
       "      <td>...</td>\n",
       "      <td>2</td>\n",
       "      <td>80</td>\n",
       "      <td>0</td>\n",
       "      <td>7</td>\n",
       "      <td>3</td>\n",
       "      <td>3</td>\n",
       "      <td>0</td>\n",
       "      <td>0</td>\n",
       "      <td>0</td>\n",
       "      <td>0</td>\n",
       "    </tr>\n",
       "    <tr>\n",
       "      <th>3</th>\n",
       "      <td>33</td>\n",
       "      <td>No</td>\n",
       "      <td>Travel_Frequently</td>\n",
       "      <td>1392</td>\n",
       "      <td>Research &amp; Development</td>\n",
       "      <td>3</td>\n",
       "      <td>4</td>\n",
       "      <td>Life Sciences</td>\n",
       "      <td>1</td>\n",
       "      <td>5</td>\n",
       "      <td>...</td>\n",
       "      <td>3</td>\n",
       "      <td>80</td>\n",
       "      <td>0</td>\n",
       "      <td>8</td>\n",
       "      <td>3</td>\n",
       "      <td>3</td>\n",
       "      <td>8</td>\n",
       "      <td>7</td>\n",
       "      <td>3</td>\n",
       "      <td>0</td>\n",
       "    </tr>\n",
       "    <tr>\n",
       "      <th>4</th>\n",
       "      <td>27</td>\n",
       "      <td>No</td>\n",
       "      <td>Travel_Rarely</td>\n",
       "      <td>591</td>\n",
       "      <td>Research &amp; Development</td>\n",
       "      <td>2</td>\n",
       "      <td>1</td>\n",
       "      <td>Medical</td>\n",
       "      <td>1</td>\n",
       "      <td>7</td>\n",
       "      <td>...</td>\n",
       "      <td>4</td>\n",
       "      <td>80</td>\n",
       "      <td>1</td>\n",
       "      <td>6</td>\n",
       "      <td>3</td>\n",
       "      <td>3</td>\n",
       "      <td>2</td>\n",
       "      <td>2</td>\n",
       "      <td>2</td>\n",
       "      <td>2</td>\n",
       "    </tr>\n",
       "  </tbody>\n",
       "</table>\n",
       "<p>5 rows × 35 columns</p>\n",
       "</div>"
      ],
      "text/plain": [
       "   Age Attrition     BusinessTravel  DailyRate              Department  \\\n",
       "0   41       Yes      Travel_Rarely       1102                   Sales   \n",
       "1   49        No  Travel_Frequently        279  Research & Development   \n",
       "2   37       Yes      Travel_Rarely       1373  Research & Development   \n",
       "3   33        No  Travel_Frequently       1392  Research & Development   \n",
       "4   27        No      Travel_Rarely        591  Research & Development   \n",
       "\n",
       "   DistanceFromHome  Education EducationField  EmployeeCount  EmployeeNumber  \\\n",
       "0                 1          2  Life Sciences              1               1   \n",
       "1                 8          1  Life Sciences              1               2   \n",
       "2                 2          2          Other              1               4   \n",
       "3                 3          4  Life Sciences              1               5   \n",
       "4                 2          1        Medical              1               7   \n",
       "\n",
       "   ...  RelationshipSatisfaction StandardHours  StockOptionLevel  \\\n",
       "0  ...                         1            80                 0   \n",
       "1  ...                         4            80                 1   \n",
       "2  ...                         2            80                 0   \n",
       "3  ...                         3            80                 0   \n",
       "4  ...                         4            80                 1   \n",
       "\n",
       "   TotalWorkingYears  TrainingTimesLastYear WorkLifeBalance  YearsAtCompany  \\\n",
       "0                  8                      0               1               6   \n",
       "1                 10                      3               3              10   \n",
       "2                  7                      3               3               0   \n",
       "3                  8                      3               3               8   \n",
       "4                  6                      3               3               2   \n",
       "\n",
       "  YearsInCurrentRole  YearsSinceLastPromotion  YearsWithCurrManager  \n",
       "0                  4                        0                     5  \n",
       "1                  7                        1                     7  \n",
       "2                  0                        0                     0  \n",
       "3                  7                        3                     0  \n",
       "4                  2                        2                     2  \n",
       "\n",
       "[5 rows x 35 columns]"
      ]
     },
     "execution_count": 93,
     "metadata": {},
     "output_type": "execute_result"
    }
   ],
   "source": [
    "ibm_hr_df.head()"
   ]
  },
  {
   "cell_type": "code",
   "execution_count": 94,
   "metadata": {},
   "outputs": [
    {
     "data": {
      "text/plain": [
       "Index(['Age', 'Attrition', 'BusinessTravel', 'DailyRate', 'Department',\n",
       "       'DistanceFromHome', 'Education', 'EducationField', 'EmployeeCount',\n",
       "       'EmployeeNumber', 'EnvironmentSatisfaction', 'Gender', 'HourlyRate',\n",
       "       'JobInvolvement', 'JobLevel', 'JobRole', 'JobSatisfaction',\n",
       "       'MaritalStatus', 'MonthlyIncome', 'MonthlyRate', 'NumCompaniesWorked',\n",
       "       'Over18', 'OverTime', 'PercentSalaryHike', 'PerformanceRating',\n",
       "       'RelationshipSatisfaction', 'StandardHours', 'StockOptionLevel',\n",
       "       'TotalWorkingYears', 'TrainingTimesLastYear', 'WorkLifeBalance',\n",
       "       'YearsAtCompany', 'YearsInCurrentRole', 'YearsSinceLastPromotion',\n",
       "       'YearsWithCurrManager'],\n",
       "      dtype='object')"
      ]
     },
     "execution_count": 94,
     "metadata": {},
     "output_type": "execute_result"
    }
   ],
   "source": [
    "ibm_hr_df.columns"
   ]
  },
  {
   "cell_type": "code",
   "execution_count": null,
   "metadata": {},
   "outputs": [
    {
     "name": "stdout",
     "output_type": "stream",
     "text": [
      "['Yes' 'No']\n",
      "\n",
      "['Travel_Rarely' 'Travel_Frequently' 'Non-Travel']\n",
      "\n",
      "['Sales' 'Research & Development' 'Human Resources']\n",
      "\n",
      "[2 1 4 3 5]\n",
      "\n",
      "['Life Sciences' 'Other' 'Medical' 'Marketing' 'Technical Degree'\n",
      " 'Human Resources']\n",
      "\n",
      "[1]\n",
      "\n",
      "[2 3 4 1]\n",
      "\n",
      "['Female' 'Male']\n",
      "\n",
      "[3 2 4 1]\n",
      "\n",
      "[2 1 3 4 5]\n",
      "\n",
      "['Sales Executive' 'Research Scientist' 'Laboratory Technician'\n",
      " 'Manufacturing Director' 'Healthcare Representative' 'Manager'\n",
      " 'Sales Representative' 'Research Director' 'Human Resources']\n",
      "\n",
      "[4 2 3 1]\n",
      "\n",
      "['Single' 'Married' 'Divorced']\n",
      "\n",
      "[8 1 6 9 0 4 5 2 7 3]\n",
      "\n",
      "['Y']\n",
      "\n",
      "['Yes' 'No']\n",
      "\n",
      "[3 4]\n",
      "\n",
      "[1 4 2 3]\n",
      "\n",
      "[80]\n",
      "\n",
      "[0 1 3 2]\n",
      "\n",
      "[0 3 2 5 1 4 6]\n",
      "\n",
      "[1 3 2 4]\n",
      "\n"
     ]
    }
   ],
   "source": [
    "for col in ibm_hr_df.columns:\n",
    "    if len(ibm_hr_df[col].unique())<=10:\n",
    "        print(ibm_hr_df[col].unique())\n",
    "        print()"
   ]
  },
  {
   "cell_type": "code",
   "execution_count": 106,
   "metadata": {},
   "outputs": [
    {
     "data": {
      "text/plain": [
       "<Axes: xlabel='Attrition', ylabel='count'>"
      ]
     },
     "execution_count": 106,
     "metadata": {},
     "output_type": "execute_result"
    },
    {
     "data": {
      "image/png": "[encoded data removed]",
      "text/plain": [
       "<Figure size 640x480 with 1 Axes>"
      ]
     },
     "metadata": {},
     "output_type": "display_data"
    }
   ],
   "source": [
    "sns.countplot(x='Attrition', data=ibm_hr_df)"
   ]
  },
  {
   "cell_type": "code",
   "execution_count": 107,
   "metadata": {},
   "outputs": [],
   "source": [
    "# axis=\"columns\" >> 열을 기준으로 삭제\n",
    "# inplace=True >> 원본 DataFrame에서 삭제\n",
    "ibm_hr_df.drop(['EmployeeCount', 'EmployeeNumber', 'Over18', 'StandardHours'], axis=\"columns\", inplace=True)"
   ]
  },
  {
   "cell_type": "code",
   "execution_count": null,
   "metadata": {},
   "outputs": [],
   "source": [
    "categorical_col = []\n",
    "for col in ibm_hr_df.columns:\n",
    "    if ibm_hr_df[col].dtype==object and len(ibm_hr_df[col].unique())<=50:\n",
    "        categorical_col.append(col)"
   ]
  },
  {
   "cell_type": "code",
   "execution_count": 103,
   "metadata": {},
   "outputs": [
    {
     "data": {
      "text/plain": [
       "['BusinessTravel',\n",
       " 'Department',\n",
       " 'EducationField',\n",
       " 'Gender',\n",
       " 'JobRole',\n",
       " 'MaritalStatus',\n",
       " 'OverTime']"
      ]
     },
     "execution_count": 103,
     "metadata": {},
     "output_type": "execute_result"
    }
   ],
   "source": [
    "categorical_col"
   ]
  },
  {
   "cell_type": "code",
   "execution_count": 104,
   "metadata": {},
   "outputs": [
    {
     "data": {
      "text/plain": [
       "array(['Yes', 'No'], dtype=object)"
      ]
     },
     "execution_count": 104,
     "metadata": {},
     "output_type": "execute_result"
    }
   ],
   "source": [
    "ibm_hr_df.Attrition.unique()"
   ]
  },
  {
   "cell_type": "code",
   "execution_count": 116,
   "metadata": {},
   "outputs": [
    {
     "name": "stdout",
     "output_type": "stream",
     "text": [
      "[ BusinessTravel ] dtype : object\n",
      "['Travel_Rarely' 'Travel_Frequently' 'Non-Travel']\n",
      "\n",
      "[ Department ] dtype : object\n",
      "['Sales' 'Research & Development' 'Human Resources']\n",
      "\n",
      "[ EducationField ] dtype : object\n",
      "['Life Sciences' 'Other' 'Medical' 'Marketing' 'Technical Degree'\n",
      " 'Human Resources']\n",
      "\n",
      "[ Gender ] dtype : object\n",
      "['Female' 'Male']\n",
      "\n",
      "[ JobRole ] dtype : object\n",
      "['Sales Executive' 'Research Scientist' 'Laboratory Technician'\n",
      " 'Manufacturing Director' 'Healthcare Representative' 'Manager'\n",
      " 'Sales Representative' 'Research Director' 'Human Resources']\n",
      "\n",
      "[ MaritalStatus ] dtype : object\n",
      "['Single' 'Married' 'Divorced']\n",
      "\n",
      "[ OverTime ] dtype : object\n",
      "['Yes' 'No']\n",
      "\n"
     ]
    }
   ],
   "source": [
    "for col in categorical_col:\n",
    "    print(f'[ {col} ] dtype : {ibm_hr_df[col].dtype}')\n",
    "    print(ibm_hr_df[col].unique())\n",
    "    print()"
   ]
  },
  {
   "cell_type": "code",
   "execution_count": 111,
   "metadata": {},
   "outputs": [],
   "source": [
    "# Attrition을 범주형 데이터로 전환\n",
    "ibm_hr_df['Attrition'] = ibm_hr_df.Attrition.astype(\"category\")"
   ]
  },
  {
   "cell_type": "code",
   "execution_count": 112,
   "metadata": {},
   "outputs": [
    {
     "data": {
      "text/plain": [
       "['Yes', 'No']\n",
       "Categories (2, object): ['No', 'Yes']"
      ]
     },
     "execution_count": 112,
     "metadata": {},
     "output_type": "execute_result"
    }
   ],
   "source": [
    "ibm_hr_df.Attrition.unique()"
   ]
  },
  {
   "cell_type": "code",
   "execution_count": 113,
   "metadata": {},
   "outputs": [
    {
     "data": {
      "text/plain": [
       "CategoricalDtype(categories=['No', 'Yes'], ordered=False, categories_dtype=object)"
      ]
     },
     "execution_count": 113,
     "metadata": {},
     "output_type": "execute_result"
    }
   ],
   "source": [
    "ibm_hr_df.Attrition.dtype"
   ]
  },
  {
   "cell_type": "code",
   "execution_count": 117,
   "metadata": {},
   "outputs": [],
   "source": [
    "# 범주형 데이터를 숫자형 코드로 변환\n",
    "ibm_hr_df['Attrition'] = ibm_hr_df.Attrition.cat.codes"
   ]
  },
  {
   "cell_type": "code",
   "execution_count": 118,
   "metadata": {},
   "outputs": [
    {
     "data": {
      "text/plain": [
       "array([1, 0], dtype=int8)"
      ]
     },
     "execution_count": 118,
     "metadata": {},
     "output_type": "execute_result"
    }
   ],
   "source": [
    "ibm_hr_df.Attrition.unique()"
   ]
  },
  {
   "cell_type": "code",
   "execution_count": null,
   "metadata": {},
   "outputs": [],
   "source": [
    "categorical_col.remove('Attrition')"
   ]
  },
  {
   "cell_type": "code",
   "execution_count": 119,
   "metadata": {},
   "outputs": [
    {
     "data": {
      "text/plain": [
       "['BusinessTravel',\n",
       " 'Department',\n",
       " 'EducationField',\n",
       " 'Gender',\n",
       " 'JobRole',\n",
       " 'MaritalStatus',\n",
       " 'OverTime']"
      ]
     },
     "execution_count": 119,
     "metadata": {},
     "output_type": "execute_result"
    }
   ],
   "source": [
    "categorical_col"
   ]
  },
  {
   "cell_type": "code",
   "execution_count": 124,
   "metadata": {},
   "outputs": [],
   "source": [
    "X = ibm_hr_df.filter(items=categorical_col)\n",
    "Y = ibm_hr_df['Attrition']"
   ]
  },
  {
   "cell_type": "code",
   "execution_count": 126,
   "metadata": {},
   "outputs": [],
   "source": [
    "from sklearn.model_selection import train_test_split\n",
    "X_train, X_test, Y_train, Y_test = train_test_split(X, Y, test_size=0.3, random_state=42)\n"
   ]
  },
  {
   "cell_type": "code",
   "execution_count": 127,
   "metadata": {},
   "outputs": [],
   "source": [
    "from sklearn.tree import DecisionTreeClassifier"
   ]
  },
  {
   "cell_type": "code",
   "execution_count": 128,
   "metadata": {},
   "outputs": [],
   "source": [
    "classifier_3 = DecisionTreeClassifier(criterion='gini', max_depth=3, random_state=42)"
   ]
  },
  {
   "cell_type": "code",
   "execution_count": 137,
   "metadata": {},
   "outputs": [],
   "source": [
    "import category_encoders as ce\n",
    "\n",
    "encoder = ce.OrdinalEncoder(cols=categorical_col)\n",
    "X_train = encoder.fit_transform(X_train)\n",
    "X_test = encoder.fit_transform(X_test)"
   ]
  },
  {
   "cell_type": "code",
   "execution_count": 139,
   "metadata": {},
   "outputs": [
    {
     "name": "stdout",
     "output_type": "stream",
     "text": [
      "Training set score: 0.8367\n",
      "Test set score: 0.8617\n"
     ]
    }
   ],
   "source": [
    "\n",
    "classifier_3.fit(X_train, Y_train)\n",
    "\n",
    "print('Training set score: {:.4f}'.format(classifier_3.score(X_train, Y_train)))\n",
    "print('Test set score: {:.4f}'.format(classifier_3.score(X_test, Y_test)))"
   ]
  },
  {
   "cell_type": "code",
   "execution_count": 140,
   "metadata": {},
   "outputs": [
    {
     "name": "stdout",
     "output_type": "stream",
     "text": [
      "  no_insects no_dead no_wilting no_diseases tree_health\n",
      "0       True    True       True        True        Good\n",
      "1       True    True       True        True        Good\n",
      "2       True   False       True       False        Poor\n",
      "3      False    True       True        True        Good\n",
      "4       True    True       True        True        Good\n",
      "5       True    True       True        True        Good\n",
      "6       True   False      False       False        Poor\n",
      "7       True   False       True       False        Poor\n",
      "8       True    True       True        True        Good\n",
      "9      False   False       True        True        Poor\n"
     ]
    }
   ],
   "source": [
    "# 데이터 정의\n",
    "data = pd.DataFrame({\"no_insects\":[\"True\",\"True\",\"True\",\"False\",\"True\",\"True\",\"True\",\"True\",\"True\",\"False\"],\n",
    "                     \"no_dead\":[\"True\",\"True\",\"False\",\"True\",\"True\",\"True\",\"False\",\"False\",\"True\",\"False\"],\n",
    "                     \"no_wilting\":[\"True\",\"True\",\"True\",\"True\",\"True\",\"True\",\"False\",\"True\",\"True\",\"True\"],\n",
    "                     \"no_diseases\":[\"True\",\"True\",\"False\",\"True\",\"True\",\"True\",\"False\",\"False\",\"True\",\"True\"],\n",
    "                     \"tree_health\":[\"Good\",\"Good\",\"Poor\",\"Good\",\"Good\",\"Good\",\"Poor\",\"Poor\",\"Good\",\"Poor\"]}, \n",
    "                    columns=[\"no_insects\",\"no_dead\",\"no_wilting\",\"no_diseases\",\"tree_health\"])\n",
    "# 기술 속성(descriptive features)\n",
    "features = data[[\"no_insects\",\"no_dead\",\"no_wilting\",\"no_diseases\"]]\n",
    "# 대상 속성(target feature)\n",
    "target = data[\"tree_health\"]\n",
    "print(data)"
   ]
  },
  {
   "cell_type": "code",
   "execution_count": 141,
   "metadata": {},
   "outputs": [],
   "source": [
    "# 엔트로피\n",
    "def entropy(target_col):\n",
    "    _, counts = np.unique(target_col, return_counts = True)\n",
    "    total_count = np.sum(counts)\n",
    "    entropy = -np.sum([count/total_count * np.log2(count/total_count) for count in counts])\n",
    "    return entropy"
   ]
  },
  {
   "cell_type": "code",
   "execution_count": 142,
   "metadata": {},
   "outputs": [
    {
     "name": "stdout",
     "output_type": "stream",
     "text": [
      "H(x) =  0.97095\n"
     ]
    }
   ],
   "source": [
    "print('H(x) = ', round(entropy(target), 5))"
   ]
  },
  {
   "cell_type": "code",
   "execution_count": 143,
   "metadata": {},
   "outputs": [],
   "source": [
    "def InfoGain(data,split_attribute_name,target_name):\n",
    " \n",
    "    # 전체 엔트로피 계산\n",
    "    total_entropy = entropy(data[target_name])\n",
    "    print(f'[{target_name}] Entropy(D) = ', round(total_entropy, 5))\n",
    "    \n",
    "    # 가중 엔트로피 계산\n",
    "    vals,counts= np.unique(data[split_attribute_name],return_counts=True)\n",
    "    Weighted_Entropy = np.sum([(counts[i]/np.sum(counts))*\n",
    "                               entropy(data.where(data[split_attribute_name]==vals[i]).dropna()[target_name])\n",
    "                               for i in range(len(vals))])\n",
    "    print(f'[{split_attribute_name}] Weighted Entropy H(', split_attribute_name, ') = ', round(Weighted_Entropy, 5))\n",
    " \n",
    "    \n",
    "    # 정보이득 계산\n",
    "    Information_Gain = total_entropy - Weighted_Entropy\n",
    "    return Information_Gain"
   ]
  },
  {
   "cell_type": "code",
   "execution_count": 144,
   "metadata": {},
   "outputs": [
    {
     "name": "stdout",
     "output_type": "stream",
     "text": [
      "[tree_health] Entropy(D) =  0.97095\n",
      "[no_insects] Weighted Entropy H( no_insects ) =  0.96355\n",
      "InfoGain( no_insects ) =  0.0074 \n",
      "\n",
      "[tree_health] Entropy(D) =  0.97095\n",
      "[no_wilting] Weighted Entropy H( no_wilting ) =  0.82647\n",
      "InfoGain( no_wilting ) =  0.14448 \n",
      "\n",
      "[tree_health] Entropy(D) =  0.97095\n",
      "[no_diseases] Weighted Entropy H( no_diseases ) =  0.41417\n",
      "InfoGain( no_diseases ) =  0.55678\n"
     ]
    }
   ],
   "source": [
    "print('InfoGain( no_insects ) = ', round(InfoGain(data, \"no_insects\", \"tree_health\"), 5), '\\n')\n",
    "print('InfoGain( no_wilting ) = ', round(InfoGain(data, \"no_wilting\", \"tree_health\"), 5), '\\n')\n",
    "print('InfoGain( no_diseases ) = ', round(InfoGain(data, \"no_diseases\", \"tree_health\"), 5))"
   ]
  },
  {
   "cell_type": "code",
   "execution_count": 145,
   "metadata": {},
   "outputs": [],
   "source": [
    "# ID3 알고리즘\n",
    "def ID3(data,originaldata,features,target_attribute_name,parent_node_class = None):\n",
    " \n",
    "    # 중지기준 정의\n",
    " \n",
    "    # 1. 대상 속성이 단일값을 가지면: 해당 대상 속성 반환\n",
    "    if len(np.unique(data[target_attribute_name])) <= 1:\n",
    "        return np.unique(data[target_attribute_name])[0]\n",
    " \n",
    "    # 2. 데이터가 없을 때: 원본 데이터에서 최대값을 가지는 대상 속성 반환\n",
    "    # >> 특정 그룹에서 목표 변수 값이 없으면 예측할 정보가 없음 -> 데이터 보완 필요 -> 최빈값 사용용\n",
    "    elif len(data)==0:\n",
    "        return np.unique(originaldata[target_attribute_name])\\\n",
    "               [np.argmax(np.unique(originaldata[target_attribute_name], return_counts=True)[1])]\n",
    " \n",
    "    # 3. 기술 속성이 없을 때: 부모 노드의 대상 속성 반환\n",
    "    elif len(features) ==0:\n",
    "        return parent_node_class\n",
    " \n",
    "    # 트리 성장\n",
    "    else:\n",
    "        # 부모노드의 대상 속성 정의(예: Good)\n",
    "        parent_node_class = np.unique(data[target_attribute_name])\\\n",
    "                            [np.argmax(np.unique(data[target_attribute_name], return_counts=True)[1])]\n",
    "        \n",
    "        # 데이터를 분할할 속성 선택\n",
    "        item_values = [InfoGain(data,feature,target_attribute_name) for feature in features]\n",
    "        best_feature_index = np.argmax(item_values)\n",
    "        best_feature = features[best_feature_index]\n",
    "        \n",
    "        # 트리 구조 생성\n",
    "        tree = {best_feature:{}}\n",
    "        \n",
    "        # 최대 정보이득을 보인 기술 속성 제외\n",
    "        features = [i for i in features if i != best_feature]\n",
    "        \n",
    "        # 가지 성장\n",
    "        for value in np.unique(data[best_feature]):\n",
    "            # 데이터 분할. dropna(): 결측값을 가진 행, 열 제거\n",
    "            sub_data = data.where(data[best_feature] == value).dropna()\n",
    "            \n",
    "            # ID3 알고리즘\n",
    "            subtree = ID3(sub_data,data,features,target_attribute_name,parent_node_class)\n",
    "            tree[best_feature][value] = subtree\n",
    "            \n",
    "        return(tree)"
   ]
  },
  {
   "cell_type": "code",
   "execution_count": 146,
   "metadata": {},
   "outputs": [
    {
     "name": "stdout",
     "output_type": "stream",
     "text": [
      "numpy.unique:  [6 4]\n",
      "numpy.max:  6\n",
      "numpy.argmax:  0\n"
     ]
    }
   ],
   "source": [
    "print('numpy.unique: ', np.unique(data[\"tree_health\"], return_counts = True)[1])\n",
    "print('numpy.max: ', np.max(np.unique(data[\"tree_health\"], return_counts = True)[1]))\n",
    "print('numpy.argmax: ', np.argmax(np.unique(data[\"tree_health\"], return_counts = True)[1]))"
   ]
  },
  {
   "cell_type": "code",
   "execution_count": 147,
   "metadata": {},
   "outputs": [
    {
     "name": "stdout",
     "output_type": "stream",
     "text": [
      "[tree_health] Entropy(D) =  0.97095\n",
      "[no_insects] Weighted Entropy H( no_insects ) =  0.96355\n",
      "[tree_health] Entropy(D) =  0.97095\n",
      "[no_wilting] Weighted Entropy H( no_wilting ) =  0.82647\n",
      "[tree_health] Entropy(D) =  0.97095\n",
      "[no_diseases] Weighted Entropy H( no_diseases ) =  0.41417\n",
      "[tree_health] Entropy(D) =  0.59167\n",
      "[no_insects] Weighted Entropy H( no_insects ) =  0.28571\n",
      "[tree_health] Entropy(D) =  0.59167\n",
      "[no_wilting] Weighted Entropy H( no_wilting ) =  0.59167\n",
      "[tree_health] Entropy(D) =  1.0\n",
      "[no_wilting] Weighted Entropy H( no_wilting ) =  1.0\n",
      "{'no_diseases': {'False': 'Poor',\n",
      "                 'True': {'no_insects': {'False': {'no_wilting': {'True': 'Good'}},\n",
      "                                         'True': 'Good'}}}}\n"
     ]
    }
   ],
   "source": [
    "tree = ID3(data, data, [\"no_insects\",\"no_wilting\",\"no_diseases\"], \"tree_health\")\n",
    "from pprint import pprint\n",
    "pprint(tree)"
   ]
  },
  {
   "cell_type": "code",
   "execution_count": null,
   "metadata": {},
   "outputs": [],
   "source": [
    "from sklearn.datasets import load_iris\n",
    "from sklearn.tree import DecisionTreeClassifier\n",
    "\n",
    "iris = load_iris()\n",
    "X = iris.data[:, 2:] # petal length and width\n",
    "y = iris.target\n",
    "\n",
    "tree_clf = DecisionTreeClassifier(max_depth=2, random_state=42)\n",
    "tree_clf.fit(X, y)"
   ]
  },
  {
   "cell_type": "code",
   "execution_count": null,
   "metadata": {},
   "outputs": [],
   "source": [
    "iris.feature_names"
   ]
  },
  {
   "cell_type": "code",
   "execution_count": null,
   "metadata": {},
   "outputs": [],
   "source": [
    "iris.target_names"
   ]
  },
  {
   "cell_type": "code",
   "execution_count": null,
   "metadata": {},
   "outputs": [],
   "source": []
  }
 ],
 "metadata": {
  "kernelspec": {
   "display_name": "decisionTree",
   "language": "python",
   "name": "python3"
  },
  "language_info": {
   "codemirror_mode": {
    "name": "ipython",
    "version": 3
   },
   "file_extension": ".py",
   "mimetype": "text/x-python",
   "name": "python",
   "nbconvert_exporter": "python",
   "pygments_lexer": "ipython3",
   "version": "3.9.21"
  }
 },
 "nbformat": 4,
 "nbformat_minor": 2
}
